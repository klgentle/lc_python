{
 "cells": [
  {
   "cell_type": "code",
   "execution_count": 11,
   "metadata": {},
   "outputs": [
    {
     "data": {
      "image/png": "[encoded data removed]",
      "text/plain": [
       "<Figure size 432x288 with 1 Axes>"
      ]
     },
     "metadata": {
      "needs_background": "light"
     },
     "output_type": "display_data"
    }
   ],
   "source": [
    "import matplotlib.pyplot as plt\n",
    "import pandas as pd\n",
    "\n",
    "# x 是x轴，y是height，\n",
    "loan = pd.read_csv(\"loan.csv\")\n",
    "\n",
    "# 单列时sort不用写by\n",
    "x = loan[\"Credit_score\"].drop_duplicates().sort_values()\n",
    "#print(x)\n",
    "y = loan[\"Credit_score\"].groupby(loan[\"Credit_score\"]).count()\n",
    "#print(y)\n",
    "#x = [625, 650, 675, 700, 725, 750, 775, 800]\n",
    "#y = [2.0, 2.0, 1.0, 3.0, 4.0, 2.0, 1.0, 2.0]\n",
    "p1 = plt.bar(x, height=y, width=2)\n",
    "plt.title(\"Credit_score\")\n",
    "plt.grid(axis='y')\n",
    "plt.grid(axis='x')\n",
    "plt.show()\n"
   ]
  },
  {
   "cell_type": "code",
   "execution_count": 5,
   "metadata": {},
   "outputs": [
    {
     "name": "stdout",
     "output_type": "stream",
     "text": [
      "8843     440\n",
      "957      455\n",
      "1898     456\n",
      "6327     460\n",
      "9083     468\n",
      "2712     486\n",
      "5643     493\n",
      "6629     497\n",
      "9958     501\n",
      "1134     502\n",
      "669      503\n",
      "2219     504\n",
      "5235     505\n",
      "3670     506\n",
      "1231     507\n",
      "918      508\n",
      "4383     509\n",
      "3667     510\n",
      "11281    511\n",
      "5538     512\n",
      "10827    513\n",
      "3573     514\n",
      "14831    515\n",
      "2500     516\n",
      "9374     517\n",
      "14428    518\n",
      "2735     519\n",
      "964      520\n",
      "5731     521\n",
      "2903     522\n",
      "        ... \n",
      "10695    795\n",
      "754      796\n",
      "11076    797\n",
      "6289     798\n",
      "851      799\n",
      "14259    800\n",
      "7575     801\n",
      "9727     802\n",
      "14079    803\n",
      "3510     804\n",
      "11055    805\n",
      "12347    806\n",
      "6698     807\n",
      "9527     808\n",
      "3900     809\n",
      "7187     810\n",
      "7363     811\n",
      "1022     812\n",
      "10486    813\n",
      "27       814\n",
      "4366     815\n",
      "5340     816\n",
      "7597     817\n",
      "4020     818\n",
      "2960     819\n",
      "2323     820\n",
      "952      822\n",
      "10903    824\n",
      "6196     900\n",
      "805      999\n",
      "Name: Credit_score, Length: 332, dtype: int64\n",
      "Credit_score\n",
      "440     1\n",
      "455     1\n",
      "456     1\n",
      "460     1\n",
      "468     1\n",
      "486     1\n",
      "493     1\n",
      "497     2\n",
      "501     2\n",
      "502     7\n",
      "503     5\n",
      "504     3\n",
      "505     2\n",
      "506     2\n",
      "507     4\n",
      "508     5\n",
      "509     7\n",
      "510     5\n",
      "511     1\n",
      "512     2\n",
      "513     2\n",
      "514     6\n",
      "515     7\n",
      "516     4\n",
      "517     4\n",
      "518     9\n",
      "519     3\n",
      "520     4\n",
      "521    12\n",
      "522     7\n",
      "       ..\n",
      "795    23\n",
      "796    21\n",
      "797    26\n",
      "798    32\n",
      "799    20\n",
      "800     6\n",
      "801    23\n",
      "802    16\n",
      "803    19\n",
      "804     4\n",
      "805    16\n",
      "806    15\n",
      "807     5\n",
      "808     6\n",
      "809    10\n",
      "810     9\n",
      "811     4\n",
      "812     1\n",
      "813     9\n",
      "814     3\n",
      "815     1\n",
      "816     4\n",
      "817     1\n",
      "818     1\n",
      "819     2\n",
      "820     1\n",
      "822     1\n",
      "824     1\n",
      "900     8\n",
      "999     2\n",
      "Name: Credit_score, Length: 332, dtype: int64\n"
     ]
    },
    {
     "data": {
      "image/png": "[encoded data removed]",
      "text/plain": [
       "<Figure size 432x288 with 1 Axes>"
      ]
     },
     "metadata": {
      "needs_background": "light"
     },
     "output_type": "display_data"
    }
   ],
   "source": []
  },
  {
   "cell_type": "code",
   "execution_count": null,
   "metadata": {},
   "outputs": [],
   "source": []
  }
 ],
 "metadata": {
  "kernelspec": {
   "display_name": "Python 3",
   "language": "python",
   "name": "python3"
  },
  "language_info": {
   "codemirror_mode": {
    "name": "ipython",
    "version": 3
   },
   "file_extension": ".py",
   "mimetype": "text/x-python",
   "name": "python",
   "nbconvert_exporter": "python",
   "pygments_lexer": "ipython3",
   "version": "3.7.0"
  }
 },
 "nbformat": 4,
 "nbformat_minor": 2
}
