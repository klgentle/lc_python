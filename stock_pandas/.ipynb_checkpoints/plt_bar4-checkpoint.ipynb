{
 "cells": [
  {
   "cell_type": "code",
   "execution_count": 3,
   "metadata": {},
   "outputs": [],
   "source": [
    "import matplotlib.pyplot as plt\n",
    "import pandas as pd\n",
    "\n",
    "# x 是x轴，y是height，\n",
    "loan = pd.read_csv(\"loan.csv\")\n",
    "\n",
    "loan_credit_score = loan[\"Credit_score\"]\n",
    "loan_credit_score.head(5)\n",
    "\n",
    "x = loan_credit_score.sort_values().drop_duplicates()"
   ]
  },
  {
   "cell_type": "code",
   "execution_count": null,
   "metadata": {},
   "outputs": [],
   "source": [
    "\n",
    "#x = loan_credit_score.sort_values(by=\"Credit_score\").drop_duplicates()\n",
    "print(x)\n",
    "y = loan[\"Credit_score\"].groupby(loan[\"Credit_score\"]).count()\n",
    "print(y)\n",
    "#x = [625, 650, 675, 700, 725, 750, 775, 800]\n",
    "#y = [2.0, 2.0, 1.0, 3.0, 4.0, 2.0, 1.0, 2.0]\n",
    "p1 = plt.bar(x, height=y, width=2)\n",
    "plt.title(\"Credit_score\")\n",
    "plt.grid(axis='y')\n",
    "plt.grid(axis='x')\n",
    "plt.show()\n",
    "\n",
    "# loan not change\n",
    "#x2 = loan[\"Credit_score\"]\n",
    "#print(x2)"
   ]
  }
 ],
 "metadata": {
  "kernelspec": {
   "display_name": "Python 3",
   "language": "python",
   "name": "python3"
  },
  "language_info": {
   "codemirror_mode": {
    "name": "ipython",
    "version": 3
   },
   "file_extension": ".py",
   "mimetype": "text/x-python",
   "name": "python",
   "nbconvert_exporter": "python",
   "pygments_lexer": "ipython3",
   "version": "3.7.0"
  }
 },
 "nbformat": 4,
 "nbformat_minor": 2
}
